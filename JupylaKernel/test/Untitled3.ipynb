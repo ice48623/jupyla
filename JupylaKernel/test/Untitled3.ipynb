{
 "cells": [
  {
   "cell_type": "code",
   "execution_count": null,
   "metadata": {
    "collapsed": true
   },
   "outputs": [],
   "source": [
    "sdfds"
   ]
  },
  {
   "cell_type": "code",
   "execution_count": null,
   "metadata": {
    "collapsed": true
   },
   "outputs": [],
   "source": []
  }
 ],
 "metadata": {
  "kernelspec": {
   "display_name": "jupyla",
   "language": "scala",
   "name": "jupyla"
  }
 },
 "nbformat": 4,
 "nbformat_minor": 1
}
